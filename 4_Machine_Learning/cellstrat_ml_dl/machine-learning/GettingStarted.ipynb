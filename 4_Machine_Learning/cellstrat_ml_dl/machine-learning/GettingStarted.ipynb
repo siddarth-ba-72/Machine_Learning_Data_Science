{
 "cells": [
  {
   "cell_type": "markdown",
   "id": "1eeed83d",
   "metadata": {},
   "source": [
    "# CellStrat Hub Pack - Machine Learning\n",
    "\n",
    "### This project pack is the Intellectual Property of CellStrat, a global AI product company (www.cellstrat.com)\n",
    "\n",
    "### This project pack has been tested on CellStrat Hub Programming Cloud Platform (www.cellstrathub.com)\n",
    "\n",
    "### Last Update : 26th May 2021\n",
    "\n",
    "#### <u>LIST OF CONTENTS</u> :-\n",
    "\n",
    "#### ML1 - A basic ML demo\n",
    "#### ML2 - Regression and Classification - an intro\n",
    "#### ML3 - Data Preparation\n",
    "#### ML4 - Trend Analysis with Regression\n",
    "#### ML5 - Classification with Logistic Regression and KNN\n",
    "#### ML6 - Decision Trees and Random Forest\n",
    "#### ML7 - Support Vector Machines\n",
    "#### ML8 - Clustering (Unsupervised Learning)"
   ]
  },
  {
   "cell_type": "code",
   "execution_count": null,
   "id": "cd8e855c",
   "metadata": {},
   "outputs": [],
   "source": []
  }
 ],
 "metadata": {
  "kernelspec": {
   "display_name": "conda_python3",
   "language": "python",
   "name": "conda_python3"
  },
  "language_info": {
   "codemirror_mode": {
    "name": "ipython",
    "version": 3
   },
   "file_extension": ".py",
   "mimetype": "text/x-python",
   "name": "python",
   "nbconvert_exporter": "python",
   "pygments_lexer": "ipython3",
   "version": "3.6.13"
  }
 },
 "nbformat": 4,
 "nbformat_minor": 5
}
