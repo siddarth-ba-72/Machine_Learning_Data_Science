{
 "cells": [
  {
   "cell_type": "markdown",
   "metadata": {},
   "source": [
    "### CellStrat Hub Pack - Machine Learning\n",
    "\n",
    "#### ML4 - Linear Regression"
   ]
  },
  {
   "cell_type": "markdown",
   "metadata": {},
   "source": [
    "#### Create X and Y data"
   ]
  },
  {
   "cell_type": "code",
   "execution_count": 1,
   "metadata": {
    "collapsed": false,
    "jupyter": {
     "outputs_hidden": false
    }
   },
   "outputs": [
    {
     "name": "stdout",
     "output_type": "stream",
     "text": [
      "100\n",
      "x =  [[ 36.7802624 ]\n",
      " [384.5809098 ]\n",
      " [478.87396431]\n",
      " [216.82558906]\n",
      " [224.96497135]\n",
      " [368.47739726]\n",
      " [447.87251877]\n",
      " [389.11454313]\n",
      " [ 90.89878231]\n",
      " [498.90161962]\n",
      " [128.24858222]\n",
      " [425.67778961]\n",
      " [105.06732629]\n",
      " [113.13549868]\n",
      " [129.33354806]\n",
      " [ 44.68375154]\n",
      " [ 81.29745797]\n",
      " [364.83881434]\n",
      " [473.35823318]\n",
      " [ 76.09899521]\n",
      " [316.55678444]\n",
      " [110.29230134]\n",
      " [ 84.93947029]\n",
      " [433.98864875]\n",
      " [438.81890269]\n",
      " [395.9104874 ]\n",
      " [148.98812492]\n",
      " [ 21.27254617]\n",
      " [ 35.25943167]\n",
      " [164.84378406]\n",
      " [409.60286574]\n",
      " [188.80382066]\n",
      " [178.76407797]\n",
      " [220.43817865]\n",
      " [203.60034567]\n",
      " [358.07589639]\n",
      " [492.73715011]\n",
      " [ 79.72940202]\n",
      " [274.03173739]\n",
      " [465.74529532]\n",
      " [ 66.45027869]\n",
      " [ 15.63517276]\n",
      " [300.3562482 ]\n",
      " [381.80124404]\n",
      " [459.83425888]\n",
      " [358.41256789]\n",
      " [ 48.61105814]\n",
      " [379.24439567]\n",
      " [234.39409416]\n",
      " [155.15966258]\n",
      " [ 21.9879553 ]\n",
      " [101.95866683]\n",
      " [439.53961444]\n",
      " [416.10123696]\n",
      " [ 81.43913552]\n",
      " [309.99276041]\n",
      " [ 91.16132034]\n",
      " [ 69.83005215]\n",
      " [355.07747783]\n",
      " [  9.90872728]\n",
      " [419.41507441]\n",
      " [123.31736803]\n",
      " [401.28580405]\n",
      " [293.95750359]\n",
      " [ 40.66212229]\n",
      " [ 65.5476953 ]\n",
      " [490.03985445]\n",
      " [489.90555942]\n",
      " [102.46733677]\n",
      " [439.92409673]\n",
      " [135.88078686]\n",
      " [429.3583188 ]\n",
      " [ 49.39072609]\n",
      " [305.77472301]\n",
      " [409.84169207]\n",
      " [349.59621698]\n",
      " [206.16601498]\n",
      " [294.79417586]\n",
      " [245.94629636]\n",
      " [ 19.99203359]\n",
      " [381.20803696]\n",
      " [253.72904124]\n",
      " [141.49332077]\n",
      " [452.83810032]\n",
      " [  8.84455496]\n",
      " [291.64357775]\n",
      " [ 79.27816368]\n",
      " [ 64.41982459]\n",
      " [476.44628464]\n",
      " [ 50.05678086]\n",
      " [339.2980407 ]\n",
      " [280.42802649]\n",
      " [ 80.87044478]\n",
      " [ 27.37893217]\n",
      " [318.43017706]\n",
      " [143.09896653]\n",
      " [140.50972114]\n",
      " [201.04906325]\n",
      " [190.89765914]\n",
      " [474.21617537]]\n",
      "100\n",
      "y =  [[ 187.16179032]\n",
      " [1926.13307843]\n",
      " [2397.57430475]\n",
      " [1086.66245372]\n",
      " [1127.70890682]\n",
      " [1845.68011439]\n",
      " [2242.42253793]\n",
      " [1948.14962759]\n",
      " [ 457.45357068]\n",
      " [2497.3448999 ]\n",
      " [ 644.11902539]\n",
      " [2131.20280995]\n",
      " [ 528.0032812 ]\n",
      " [ 568.40136308]\n",
      " [ 649.99531099]\n",
      " [ 226.2059716 ]\n",
      " [ 409.22261939]\n",
      " [1827.04620041]\n",
      " [2370.17436371]\n",
      " [ 383.69753405]\n",
      " [1585.7687302 ]\n",
      " [ 554.98792748]\n",
      " [ 427.96987116]\n",
      " [2172.67704759]\n",
      " [2196.87193241]\n",
      " [1982.56583214]\n",
      " [ 747.7387859 ]\n",
      " [ 109.12084002]\n",
      " [ 179.17670297]\n",
      " [ 827.39187808]\n",
      " [2051.37752012]\n",
      " [ 947.18025992]\n",
      " [ 896.73354522]\n",
      " [1104.93778425]\n",
      " [1021.14100296]\n",
      " [1794.23287327]\n",
      " [2466.5127737 ]\n",
      " [ 401.525298  ]\n",
      " [1373.37996443]\n",
      " [2331.62477159]\n",
      " [ 335.75406935]\n",
      " [  81.07434075]\n",
      " [1504.03617332]\n",
      " [1912.00587354]\n",
      " [2302.586391  ]\n",
      " [1795.31710034]\n",
      " [ 245.55276838]\n",
      " [1899.50492439]\n",
      " [1174.62278578]\n",
      " [ 779.26605676]\n",
      " [ 113.20928261]\n",
      " [ 512.49975864]\n",
      " [2200.68060964]\n",
      " [2084.0724869 ]\n",
      " [ 410.51286413]\n",
      " [1552.84232909]\n",
      " [ 458.78588086]\n",
      " [ 351.94692615]\n",
      " [1778.35367799]\n",
      " [  52.08547961]\n",
      " [2100.19916713]\n",
      " [ 620.13938811]\n",
      " [2009.48173254]\n",
      " [1473.21395924]\n",
      " [ 206.67001967]\n",
      " [ 330.95786767]\n",
      " [2452.98813199]\n",
      " [2452.61131091]\n",
      " [ 515.2677267 ]\n",
      " [2202.69965469]\n",
      " [ 682.19316839]\n",
      " [2149.9055871 ]\n",
      " [ 250.49124712]\n",
      " [1531.7980766 ]\n",
      " [2052.46735927]\n",
      " [1750.89365228]\n",
      " [1033.5926184 ]\n",
      " [1477.17751028]\n",
      " [1232.65267763]\n",
      " [ 103.33722566]\n",
      " [1909.8091537 ]\n",
      " [1271.57687253]\n",
      " [ 710.63164203]\n",
      " [2267.12013419]\n",
      " [  47.46118244]\n",
      " [1461.22584192]\n",
      " [ 400.06504878]\n",
      " [ 324.76543228]\n",
      " [2385.23585452]\n",
      " [ 252.90252283]\n",
      " [1699.28497808]\n",
      " [1404.98785512]\n",
      " [ 407.6146789 ]\n",
      " [ 139.92494176]\n",
      " [1594.61592202]\n",
      " [ 718.40589543]\n",
      " [ 705.35963507]\n",
      " [1008.31218905]\n",
      " [ 957.33668622]\n",
      " [2373.75819505]]\n"
     ]
    }
   ],
   "source": [
    "import numpy as np\n",
    "\n",
    "def create_y(x):\n",
    "    res = x*5 + 3 + np.random.randn(len(x)).reshape((len(x),1))*0.3\n",
    "    # API hint : check https://docs.scipy.org/doc/numpy/reference/generated/numpy.random.randn.html\n",
    "    \n",
    "    return res\n",
    "\n",
    "x = np.random.uniform(1,500,100) #create 100 random numbers between 1 and 500\n",
    "x=x.reshape(len(x),1)\n",
    "print(np.size(x))\n",
    "print (\"x = \", x)\n",
    "y = create_y(x)\n",
    "print(np.size(y))\n",
    "print(\"y = \", y)\n"
   ]
  },
  {
   "cell_type": "markdown",
   "metadata": {},
   "source": [
    "#### Run the training & test steps"
   ]
  },
  {
   "cell_type": "code",
   "execution_count": 2,
   "metadata": {
    "collapsed": false,
    "jupyter": {
     "outputs_hidden": false
    }
   },
   "outputs": [
    {
     "name": "stdout",
     "output_type": "stream",
     "text": [
      " y = [5.00009309] * x + [3.01936475]\n"
     ]
    }
   ],
   "source": [
    "import numpy as np\n",
    "from sklearn import linear_model\n",
    "\n",
    "linReg = linear_model.LinearRegression()\n",
    "\n",
    "\n",
    "#first 90 numbers are taken for training step. Last 10 numbers for test step.\n",
    "X_train = np.array(x[:-10])\n",
    "Y_train = np.array(y[:-10])\n",
    "\n",
    "X_test = x[-10:]\n",
    "Y_test = y[-10:]\n",
    "\n",
    "# feed the linear regression with the train data to obtain a model.\n",
    "linReg.fit(X_train, Y_train)\n",
    "m = linReg.coef_[0]\n",
    "b = linReg.intercept_\n",
    "print(' y = {0} * x + {1}'.format(m, b))"
   ]
  },
  {
   "cell_type": "markdown",
   "metadata": {},
   "source": [
    "#### Plot the curve"
   ]
  },
  {
   "cell_type": "code",
   "execution_count": 3,
   "metadata": {
    "collapsed": false,
    "jupyter": {
     "outputs_hidden": false
    }
   },
   "outputs": [
    {
     "data": {
      "image/png": "[encoded data removed]",
      "text/plain": [
       "<Figure size 432x288 with 1 Axes>"
      ]
     },
     "metadata": {
      "needs_background": "light"
     },
     "output_type": "display_data"
    }
   ],
   "source": [
    "import matplotlib.pyplot as plt\n",
    "import numpy as np\n",
    "\n",
    "plt.scatter(x,y,color='k')\n",
    "min_x= np.min(x)\n",
    "max_x= np.max(x)\n",
    "plt.plot([min_x, max_x], [b, m*max_x + b], 'r')\n",
    "\n",
    "plt.title('Linear Regression')\n",
    "plt.xlabel('x')\n",
    "plt.ylabel('y')\n",
    "plt.show()"
   ]
  },
  {
   "cell_type": "markdown",
   "metadata": {},
   "source": [
    "#### Print variance score"
   ]
  },
  {
   "cell_type": "code",
   "execution_count": 4,
   "metadata": {
    "collapsed": false,
    "jupyter": {
     "outputs_hidden": false
    }
   },
   "outputs": [
    {
     "name": "stdout",
     "output_type": "stream",
     "text": [
      "MSE: 0.08\n",
      "Variance score: 1.00\n"
     ]
    }
   ],
   "source": [
    "print(\"MSE: %.2f\" % np.mean((linReg.predict(X_test) - Y_test) ** 2))\n",
    "# Explained variance score: 1 is perfect prediction\n",
    "print('Variance score: %.2f' % linReg.score(X_test, Y_test))"
   ]
  },
  {
   "cell_type": "code",
   "execution_count": null,
   "metadata": {
    "collapsed": true,
    "jupyter": {
     "outputs_hidden": true
    }
   },
   "outputs": [],
   "source": []
  },
  {
   "cell_type": "code",
   "execution_count": null,
   "metadata": {},
   "outputs": [],
   "source": []
  },
  {
   "cell_type": "code",
   "execution_count": null,
   "metadata": {},
   "outputs": [],
   "source": []
  }
 ],
 "metadata": {
  "anaconda-cloud": {},
  "kernelspec": {
   "display_name": "Python 3",
   "language": "python",
   "name": "python3"
  },
  "language_info": {
   "codemirror_mode": {
    "name": "ipython",
    "version": 3
   },
   "file_extension": ".py",
   "mimetype": "text/x-python",
   "name": "python",
   "nbconvert_exporter": "python",
   "pygments_lexer": "ipython3",
   "version": "3.8.8"
  }
 },
 "nbformat": 4,
 "nbformat_minor": 4
}
