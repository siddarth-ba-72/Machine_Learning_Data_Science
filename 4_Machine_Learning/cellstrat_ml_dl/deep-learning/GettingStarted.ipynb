{
 "cells": [
  {
   "cell_type": "markdown",
   "id": "1821b9d6",
   "metadata": {},
   "source": [
    "# CellStrat Hub Pack - Deep Learning\n",
    "\n",
    "### This project pack is the Intellectual Property of CellStrat, a global AI product company (www.cellstrat.com)\n",
    "\n",
    "### This project pack has been tested on CellStrat Hub Programming Cloud Platform (www.cellstrathub.com)\n",
    "\n",
    "### Last Update : 28th May 2021\n",
    "\n",
    "#### <u>LIST OF CONTENTS</u> :-\n",
    "\n",
    "#### DL1 - Basic DL Demo\n",
    "#### DL2 - Tensorflow with Keras\n",
    "#### DL3 - Perceptron and Activation function\n",
    "#### DL4 - Neural Network\n",
    "#### DL5 - Multi Layer Neural Network\n",
    "#### DL6 - Tuning and Optimisation\n",
    "#### DL7 - Convolution Neural Network\n",
    "#### DL8 - Recurrent Neural Network\n",
    "#### DL9 - Types of RNN\n",
    "#### DL10 - LSTM, Autoencoder, GBDT\n",
    "#### DL Project"
   ]
  },
  {
   "cell_type": "code",
   "execution_count": null,
   "id": "96c4be77",
   "metadata": {},
   "outputs": [],
   "source": []
  }
 ],
 "metadata": {
  "kernelspec": {
   "display_name": "conda_python3",
   "language": "python",
   "name": "conda_python3"
  },
  "language_info": {
   "codemirror_mode": {
    "name": "ipython",
    "version": 3
   },
   "file_extension": ".py",
   "mimetype": "text/x-python",
   "name": "python",
   "nbconvert_exporter": "python",
   "pygments_lexer": "ipython3",
   "version": "3.6.13"
  }
 },
 "nbformat": 4,
 "nbformat_minor": 5
}
