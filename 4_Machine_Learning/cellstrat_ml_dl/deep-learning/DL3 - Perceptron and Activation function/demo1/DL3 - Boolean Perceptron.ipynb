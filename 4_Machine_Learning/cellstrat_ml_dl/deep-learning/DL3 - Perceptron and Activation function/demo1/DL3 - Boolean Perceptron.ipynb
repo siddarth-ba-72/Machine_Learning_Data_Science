{
 "cells": [
  {
   "cell_type": "markdown",
   "metadata": {},
   "source": [
    "### CellStrat Hub Pack - Deep Learning\n",
    "\n",
    "#### DL3 - Perceptron (Boolean Logic)"
   ]
  },
  {
   "cell_type": "markdown",
   "metadata": {},
   "source": [
    "### Import modules"
   ]
  },
  {
   "cell_type": "code",
   "execution_count": 1,
   "metadata": {},
   "outputs": [],
   "source": [
    "import numpy as np\n",
    "from sklearn.linear_model import Perceptron"
   ]
  },
  {
   "cell_type": "markdown",
   "metadata": {},
   "source": [
    "### Set the Logic Gate"
   ]
  },
  {
   "cell_type": "code",
   "execution_count": 2,
   "metadata": {},
   "outputs": [],
   "source": [
    "logicName = \"AND\""
   ]
  },
  {
   "cell_type": "markdown",
   "metadata": {},
   "source": [
    "### Define Input and Output"
   ]
  },
  {
   "cell_type": "markdown",
   "metadata": {},
   "source": [
    "Input   AND    OR   XOR\n",
    "0,0     0      0    0\n",
    "1,0     0      1    1\n",
    "0,1     0      1    1\n",
    "1,1     1      1    0"
   ]
  },
  {
   "cell_type": "code",
   "execution_count": 3,
   "metadata": {},
   "outputs": [],
   "source": [
    "inputs = np.array([[0,0],\n",
    "                   [0,1],\n",
    "                   [1,0],\n",
    "                   [1,1]]) #Input (4x2)\n",
    "\n",
    "if logicName == \"AND\": #Define outputs (4x1) based on the logic function chosen   \n",
    "    targets = [0,0,0,1]\n",
    "elif logicName == \"OR\":    \n",
    "    targets = [0,1,1,1]\n",
    "elif logicName == \"XOR\":   \n",
    "    targets = [0,1,1,0]\n",
    "else:\n",
    "    print (\"Incorrect Logic Name. Exiting\")"
   ]
  },
  {
   "cell_type": "markdown",
   "metadata": {},
   "source": [
    "### Train and evaluate "
   ]
  },
  {
   "cell_type": "code",
   "execution_count": 4,
   "metadata": {},
   "outputs": [
    {
     "name": "stdout",
     "output_type": "stream",
     "text": [
      "Accuracy for AND gate is 0.75 \n"
     ]
    }
   ],
   "source": [
    "if (logicName == \"AND\" or logicName == \"OR\" or logicName == \"XOR\"):\n",
    "    clf = Perceptron(max_iter=5, tol=None)\n",
    "    clf.fit(inputs, targets)    \n",
    "    #print('accuracy is %f:' (clf.score(inputs, targets)))\n",
    "    print(\"Accuracy for {} gate is {} \".format(logicName, \n",
    "                                                  clf.score(inputs, targets)))"
   ]
  },
  {
   "cell_type": "code",
   "execution_count": 5,
   "metadata": {},
   "outputs": [
    {
     "name": "stdout",
     "output_type": "stream",
     "text": [
      "Accuracy for AND gate is 1.0 \n"
     ]
    }
   ],
   "source": [
    "from sklearn.neural_network import MLPClassifier\n",
    "\n",
    "if (logicName == \"AND\" or logicName == \"OR\" or logicName == \"XOR\"):\n",
    "    clf = MLPClassifier(solver='lbfgs', alpha=1e-5,\n",
    "                   hidden_layer_sizes=(5, 5, 5 ), random_state=1)\n",
    "\n",
    "    clf.fit(inputs, targets) \n",
    "    print(\"Accuracy for {} gate is {} \".format(logicName, \n",
    "                                                  clf.score(inputs, targets)))"
   ]
  },
  {
   "cell_type": "code",
   "execution_count": null,
   "metadata": {},
   "outputs": [],
   "source": []
  },
  {
   "cell_type": "markdown",
   "metadata": {},
   "source": [
    "    "
   ]
  },
  {
   "cell_type": "code",
   "execution_count": null,
   "metadata": {},
   "outputs": [],
   "source": []
  }
 ],
 "metadata": {
  "kernelspec": {
   "display_name": "conda_python3",
   "language": "python",
   "name": "conda_python3"
  },
  "language_info": {
   "codemirror_mode": {
    "name": "ipython",
    "version": 3
   },
   "file_extension": ".py",
   "mimetype": "text/x-python",
   "name": "python",
   "nbconvert_exporter": "python",
   "pygments_lexer": "ipython3",
   "version": "3.6.13"
  }
 },
 "nbformat": 4,
 "nbformat_minor": 4
}
