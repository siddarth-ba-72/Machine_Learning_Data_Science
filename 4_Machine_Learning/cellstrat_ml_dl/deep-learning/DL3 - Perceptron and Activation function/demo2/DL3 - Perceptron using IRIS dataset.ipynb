{
 "cells": [
  {
   "cell_type": "markdown",
   "metadata": {},
   "source": [
    "### CellStrat Hub Pack - Deep Learning\n",
    "\n",
    "#### DL3 - Perceptron (Iris)"
   ]
  },
  {
   "cell_type": "code",
   "execution_count": 1,
   "metadata": {},
   "outputs": [],
   "source": [
    "#Import required libraries \n",
    "import keras #library for neural network\n",
    "import pandas as pd #loading data in table form  \n",
    "import seaborn as sns #visualisation \n",
    "import matplotlib.pyplot as plt #visualisation\n",
    "import numpy as np # linear algebra\n",
    "import pandas as pd # data processing, CSV file I/O (e.g. pd.read_csv)\n",
    "from sklearn.preprocessing import normalize #machine learning algorithm library"
   ]
  },
  {
   "cell_type": "code",
   "execution_count": 2,
   "metadata": {
    "scrolled": true
   },
   "outputs": [
    {
     "name": "stdout",
     "output_type": "stream",
     "text": [
      "Describing the data:         sepal.length  sepal.width  petal.length  petal.width\n",
      "count    150.000000   150.000000    150.000000   150.000000\n",
      "mean       5.843333     3.057333      3.758000     1.199333\n",
      "std        0.828066     0.435866      1.765298     0.762238\n",
      "min        4.300000     2.000000      1.000000     0.100000\n",
      "25%        5.100000     2.800000      1.600000     0.300000\n",
      "50%        5.800000     3.000000      4.350000     1.300000\n",
      "75%        6.400000     3.300000      5.100000     1.800000\n",
      "max        7.900000     4.400000      6.900000     2.500000\n",
      "<class 'pandas.core.frame.DataFrame'>\n",
      "RangeIndex: 150 entries, 0 to 149\n",
      "Data columns (total 5 columns):\n",
      " #   Column        Non-Null Count  Dtype  \n",
      "---  ------        --------------  -----  \n",
      " 0   sepal.length  150 non-null    float64\n",
      " 1   sepal.width   150 non-null    float64\n",
      " 2   petal.length  150 non-null    float64\n",
      " 3   petal.width   150 non-null    float64\n",
      " 4   variety       150 non-null    object \n",
      "dtypes: float64(4), object(1)\n",
      "memory usage: 6.0+ KB\n",
      "Info of the data: None\n"
     ]
    }
   ],
   "source": [
    "#Reading data \n",
    "data=pd.read_csv(\"./iris.csv\")\n",
    "print(\"Describing the data: \",data.describe())\n",
    "print(\"Info of the data:\",data.info())"
   ]
  },
  {
   "cell_type": "code",
   "execution_count": 3,
   "metadata": {},
   "outputs": [
    {
     "name": "stdout",
     "output_type": "stream",
     "text": [
      "['Setosa' 'Versicolor' 'Virginica']\n"
     ]
    }
   ],
   "source": [
    "print(data[\"variety\"].unique())"
   ]
  },
  {
   "cell_type": "code",
   "execution_count": 4,
   "metadata": {
    "scrolled": true
   },
   "outputs": [
    {
     "name": "stdout",
     "output_type": "stream",
     "text": [
      "   sepal.length  sepal.width  petal.length  petal.width variety\n",
      "0           5.1          3.5           1.4          0.2       0\n",
      "1           4.9          3.0           1.4          0.2       0\n",
      "2           4.7          3.2           1.3          0.2       0\n",
      "3           4.6          3.1           1.5          0.2       0\n",
      "4           5.0          3.6           1.4          0.2       0\n"
     ]
    }
   ],
   "source": [
    "# Convert the species into each respective category to be feed into the neural network\n",
    "data.loc[data[\"variety\"]==\"Setosa\",\"variety\"]=0\n",
    "data.loc[data[\"variety\"]==\"Versicolor\",\"variety\"]=1\n",
    "data.loc[data[\"variety\"]==\"Virginica\",\"variety\"]=2\n",
    "print(data.head())"
   ]
  },
  {
   "cell_type": "code",
   "execution_count": 5,
   "metadata": {},
   "outputs": [
    {
     "name": "stdout",
     "output_type": "stream",
     "text": [
      "     sepal.length  sepal.width  petal.length  petal.width variety\n",
      "122           7.7          2.8           6.7          2.0       2\n",
      "23            5.1          3.3           1.7          0.5       0\n",
      "21            5.1          3.7           1.5          0.4       0\n",
      "132           6.4          2.8           5.6          2.2       2\n",
      "135           7.7          3.0           6.1          2.3       2\n"
     ]
    }
   ],
   "source": [
    "data=data.iloc[np.random.permutation(len(data))]\n",
    "print(data.head())"
   ]
  },
  {
   "cell_type": "code",
   "execution_count": 6,
   "metadata": {},
   "outputs": [
    {
     "name": "stdout",
     "output_type": "stream",
     "text": [
      "Shape of X (150, 3)\n",
      "Shape of y (150,)\n",
      "Examples of X\n",
      " [[2.8 6.7 2. ]\n",
      " [3.3 1.7 0.5]\n",
      " [3.7 1.5 0.4]]\n",
      "Examples of y\n",
      " [2 0 0]\n"
     ]
    }
   ],
   "source": [
    "# Converting data to numpy array in order for processing\n",
    "X=data.iloc[:,1:4].values\n",
    "y=data.iloc[:,4].values\n",
    "\n",
    "print(\"Shape of X\",X.shape)\n",
    "print(\"Shape of y\",y.shape)\n",
    "print(\"Examples of X\\n\",X[:3])\n",
    "print(\"Examples of y\\n\",y[:3])"
   ]
  },
  {
   "cell_type": "code",
   "execution_count": 7,
   "metadata": {},
   "outputs": [
    {
     "name": "stdout",
     "output_type": "stream",
     "text": [
      "Examples of X_normalised\n",
      " [[0.07403367 0.1318369  0.11502424]\n",
      " [0.08725397 0.03345115 0.02875606]\n",
      " [0.09783021 0.02951572 0.02300485]]\n"
     ]
    }
   ],
   "source": [
    "#Normalization\n",
    "X_normalized=normalize(X,axis=0)\n",
    "print(\"Examples of X_normalised\\n\",X_normalized[:3])"
   ]
  },
  {
   "cell_type": "code",
   "execution_count": 8,
   "metadata": {},
   "outputs": [
    {
     "name": "stdout",
     "output_type": "stream",
     "text": [
      "Length of train set x: 120 y: 120\n",
      "Length of test set x: 30 y: 30\n"
     ]
    }
   ],
   "source": [
    "#Creating train,test and validation data\n",
    "'''\n",
    "80% -- train data\n",
    "20% -- test data\n",
    "'''\n",
    "total_length=len(data)\n",
    "train_length=int(0.8*total_length)\n",
    "test_length=int(0.2*total_length)\n",
    "\n",
    "X_train=X_normalized[:train_length]\n",
    "X_test=X_normalized[train_length:]\n",
    "y_train=y[:train_length]\n",
    "y_test=y[train_length:]\n",
    "\n",
    "print(\"Length of train set x:\",X_train.shape[0],\"y:\",y_train.shape[0])\n",
    "print(\"Length of test set x:\",X_test.shape[0],\"y:\",y_test.shape[0])"
   ]
  },
  {
   "cell_type": "code",
   "execution_count": 9,
   "metadata": {},
   "outputs": [],
   "source": [
    "#Neural network module\n",
    "from keras.models import Sequential \n",
    "from keras.layers import Dense,Activation,Dropout \n",
    "from keras.layers.normalization import BatchNormalization \n",
    "from keras.utils import np_utils"
   ]
  },
  {
   "cell_type": "code",
   "execution_count": 10,
   "metadata": {},
   "outputs": [
    {
     "name": "stdout",
     "output_type": "stream",
     "text": [
      "Shape of y_train (120, 3)\n",
      "Shape of y_test (30, 3)\n"
     ]
    }
   ],
   "source": [
    "#Change the label to one hot vector\n",
    "'''\n",
    "[0]--->[1 0 0]\n",
    "[1]--->[0 1 0]\n",
    "[2]--->[0 0 1]\n",
    "'''\n",
    "y_train=np_utils.to_categorical(y_train,num_classes=3)\n",
    "y_test=np_utils.to_categorical(y_test,num_classes=3)\n",
    "print(\"Shape of y_train\",y_train.shape)\n",
    "print(\"Shape of y_test\",y_test.shape)"
   ]
  },
  {
   "cell_type": "code",
   "execution_count": 11,
   "metadata": {},
   "outputs": [],
   "source": [
    "import tensorflow as tf"
   ]
  },
  {
   "cell_type": "code",
   "execution_count": 12,
   "metadata": {},
   "outputs": [],
   "source": [
    "model = tf.keras.models.Sequential()\n",
    "model.add(keras.layers.Dense(3, kernel_initializer='zeros', name='dense_layer', activation='relu'))\n",
    "model.compile(loss='categorical_crossentropy',optimizer='adam',metrics=['accuracy'])"
   ]
  },
  {
   "cell_type": "code",
   "execution_count": 13,
   "metadata": {},
   "outputs": [
    {
     "name": "stdout",
     "output_type": "stream",
     "text": [
      "Epoch 1/30\n",
      "1/1 [==============================] - 1s 735ms/step - loss: nan - accuracy: 0.3417 - val_loss: nan - val_accuracy: 0.3000\n",
      "Epoch 2/30\n",
      "1/1 [==============================] - 0s 22ms/step - loss: nan - accuracy: 0.3417 - val_loss: nan - val_accuracy: 0.3000\n",
      "Epoch 3/30\n",
      "1/1 [==============================] - 0s 22ms/step - loss: nan - accuracy: 0.3417 - val_loss: nan - val_accuracy: 0.3000\n",
      "Epoch 4/30\n",
      "1/1 [==============================] - 0s 23ms/step - loss: nan - accuracy: 0.3417 - val_loss: nan - val_accuracy: 0.3000\n",
      "Epoch 5/30\n",
      "1/1 [==============================] - 0s 23ms/step - loss: nan - accuracy: 0.3417 - val_loss: nan - val_accuracy: 0.3000\n",
      "Epoch 6/30\n",
      "1/1 [==============================] - 0s 22ms/step - loss: nan - accuracy: 0.3417 - val_loss: nan - val_accuracy: 0.3000\n",
      "Epoch 7/30\n",
      "1/1 [==============================] - 0s 22ms/step - loss: nan - accuracy: 0.3417 - val_loss: nan - val_accuracy: 0.3000\n",
      "Epoch 8/30\n",
      "1/1 [==============================] - 0s 22ms/step - loss: nan - accuracy: 0.3417 - val_loss: nan - val_accuracy: 0.3000\n",
      "Epoch 9/30\n",
      "1/1 [==============================] - 0s 23ms/step - loss: nan - accuracy: 0.3417 - val_loss: nan - val_accuracy: 0.3000\n",
      "Epoch 10/30\n",
      "1/1 [==============================] - 0s 23ms/step - loss: nan - accuracy: 0.3417 - val_loss: nan - val_accuracy: 0.3000\n",
      "Epoch 11/30\n",
      "1/1 [==============================] - 0s 22ms/step - loss: nan - accuracy: 0.3417 - val_loss: nan - val_accuracy: 0.3000\n",
      "Epoch 12/30\n",
      "1/1 [==============================] - 0s 23ms/step - loss: nan - accuracy: 0.3417 - val_loss: nan - val_accuracy: 0.3000\n",
      "Epoch 13/30\n",
      "1/1 [==============================] - 0s 25ms/step - loss: nan - accuracy: 0.3417 - val_loss: nan - val_accuracy: 0.3000\n",
      "Epoch 14/30\n",
      "1/1 [==============================] - 0s 24ms/step - loss: nan - accuracy: 0.3417 - val_loss: nan - val_accuracy: 0.3000\n",
      "Epoch 15/30\n",
      "1/1 [==============================] - 0s 24ms/step - loss: nan - accuracy: 0.3417 - val_loss: nan - val_accuracy: 0.3000\n",
      "Epoch 16/30\n",
      "1/1 [==============================] - 0s 23ms/step - loss: nan - accuracy: 0.3417 - val_loss: nan - val_accuracy: 0.3000\n",
      "Epoch 17/30\n",
      "1/1 [==============================] - 0s 21ms/step - loss: nan - accuracy: 0.3417 - val_loss: nan - val_accuracy: 0.3000\n",
      "Epoch 18/30\n",
      "1/1 [==============================] - 0s 23ms/step - loss: nan - accuracy: 0.3417 - val_loss: nan - val_accuracy: 0.3000\n",
      "Epoch 19/30\n",
      "1/1 [==============================] - 0s 23ms/step - loss: nan - accuracy: 0.3417 - val_loss: nan - val_accuracy: 0.3000\n",
      "Epoch 20/30\n",
      "1/1 [==============================] - 0s 22ms/step - loss: nan - accuracy: 0.3417 - val_loss: nan - val_accuracy: 0.3000\n",
      "Epoch 21/30\n",
      "1/1 [==============================] - 0s 22ms/step - loss: nan - accuracy: 0.3417 - val_loss: nan - val_accuracy: 0.3000\n",
      "Epoch 22/30\n",
      "1/1 [==============================] - 0s 23ms/step - loss: nan - accuracy: 0.3417 - val_loss: nan - val_accuracy: 0.3000\n",
      "Epoch 23/30\n",
      "1/1 [==============================] - 0s 23ms/step - loss: nan - accuracy: 0.3417 - val_loss: nan - val_accuracy: 0.3000\n",
      "Epoch 24/30\n",
      "1/1 [==============================] - 0s 23ms/step - loss: nan - accuracy: 0.3417 - val_loss: nan - val_accuracy: 0.3000\n",
      "Epoch 25/30\n",
      "1/1 [==============================] - 0s 23ms/step - loss: nan - accuracy: 0.3417 - val_loss: nan - val_accuracy: 0.3000\n",
      "Epoch 26/30\n",
      "1/1 [==============================] - 0s 23ms/step - loss: nan - accuracy: 0.3417 - val_loss: nan - val_accuracy: 0.3000\n",
      "Epoch 27/30\n",
      "1/1 [==============================] - 0s 22ms/step - loss: nan - accuracy: 0.3417 - val_loss: nan - val_accuracy: 0.3000\n",
      "Epoch 28/30\n",
      "1/1 [==============================] - 0s 23ms/step - loss: nan - accuracy: 0.3417 - val_loss: nan - val_accuracy: 0.3000\n",
      "Epoch 29/30\n",
      "1/1 [==============================] - 0s 22ms/step - loss: nan - accuracy: 0.3417 - val_loss: nan - val_accuracy: 0.3000\n",
      "Epoch 30/30\n",
      "1/1 [==============================] - 0s 23ms/step - loss: nan - accuracy: 0.3417 - val_loss: nan - val_accuracy: 0.3000\n"
     ]
    },
    {
     "data": {
      "text/plain": [
       "<tensorflow.python.keras.callbacks.History at 0x7fb63e85ddd8>"
      ]
     },
     "execution_count": 13,
     "metadata": {},
     "output_type": "execute_result"
    }
   ],
   "source": [
    "model.fit(X_train,y_train,validation_data=(X_test,y_test),batch_size=1000,epochs=30,verbose=1)"
   ]
  },
  {
   "cell_type": "code",
   "execution_count": 14,
   "metadata": {},
   "outputs": [
    {
     "name": "stdout",
     "output_type": "stream",
     "text": [
      "Accuracy of the dataset 30.0\n"
     ]
    }
   ],
   "source": [
    "prediction=model.predict(X_test)\n",
    "length=len(prediction)\n",
    "y_label=np.argmax(y_test,axis=1)\n",
    "predict_label=np.argmax(prediction,axis=1)\n",
    "\n",
    "accuracy=np.sum(y_label==predict_label)/length * 100 \n",
    "print(\"Accuracy of the dataset\",accuracy )"
   ]
  },
  {
   "cell_type": "code",
   "execution_count": 15,
   "metadata": {},
   "outputs": [
    {
     "name": "stdout",
     "output_type": "stream",
     "text": [
      "Model: \"sequential\"\n",
      "_________________________________________________________________\n",
      "Layer (type)                 Output Shape              Param #   \n",
      "=================================================================\n",
      "dense (Dense)                (None, 1000)              4000      \n",
      "_________________________________________________________________\n",
      "dropout (Dropout)            (None, 1000)              0         \n",
      "_________________________________________________________________\n",
      "dense_1 (Dense)              (None, 3)                 3003      \n",
      "=================================================================\n",
      "Total params: 7,003\n",
      "Trainable params: 7,003\n",
      "Non-trainable params: 0\n",
      "_________________________________________________________________\n"
     ]
    }
   ],
   "source": [
    "#Single Layer Perceptron \n",
    "model1=Sequential()\n",
    "model1.add(Dense(1000,input_dim=3,activation='relu'))\n",
    "model1.add(Dropout(0.2))\n",
    "model1.add(Dense(3,activation='softmax'))\n",
    "model1.compile(loss='categorical_crossentropy',optimizer='adam',metrics=['accuracy'])\n",
    "model1.summary()"
   ]
  },
  {
   "cell_type": "code",
   "execution_count": 16,
   "metadata": {},
   "outputs": [
    {
     "name": "stdout",
     "output_type": "stream",
     "text": [
      "Epoch 1/30\n",
      "1/1 [==============================] - 20s 20s/step - loss: 1.0991 - accuracy: 0.3250 - val_loss: 1.0946 - val_accuracy: 0.3000\n",
      "Epoch 2/30\n",
      "1/1 [==============================] - 0s 25ms/step - loss: 1.0947 - accuracy: 0.2917 - val_loss: 1.0916 - val_accuracy: 0.6000\n",
      "Epoch 3/30\n",
      "1/1 [==============================] - 0s 25ms/step - loss: 1.0903 - accuracy: 0.5750 - val_loss: 1.0893 - val_accuracy: 0.6000\n",
      "Epoch 4/30\n",
      "1/1 [==============================] - 0s 25ms/step - loss: 1.0868 - accuracy: 0.6583 - val_loss: 1.0875 - val_accuracy: 0.6000\n",
      "Epoch 5/30\n",
      "1/1 [==============================] - 0s 26ms/step - loss: 1.0842 - accuracy: 0.6583 - val_loss: 1.0860 - val_accuracy: 0.6000\n",
      "Epoch 6/30\n",
      "1/1 [==============================] - 0s 25ms/step - loss: 1.0825 - accuracy: 0.6750 - val_loss: 1.0845 - val_accuracy: 0.6000\n",
      "Epoch 7/30\n",
      "1/1 [==============================] - 0s 24ms/step - loss: 1.0801 - accuracy: 0.6833 - val_loss: 1.0832 - val_accuracy: 0.6000\n",
      "Epoch 8/30\n",
      "1/1 [==============================] - 0s 25ms/step - loss: 1.0783 - accuracy: 0.6833 - val_loss: 1.0819 - val_accuracy: 0.6000\n",
      "Epoch 9/30\n",
      "1/1 [==============================] - 0s 27ms/step - loss: 1.0760 - accuracy: 0.6750 - val_loss: 1.0806 - val_accuracy: 0.6000\n",
      "Epoch 10/30\n",
      "1/1 [==============================] - 0s 28ms/step - loss: 1.0745 - accuracy: 0.6833 - val_loss: 1.0793 - val_accuracy: 0.6000\n",
      "Epoch 11/30\n",
      "1/1 [==============================] - 0s 27ms/step - loss: 1.0720 - accuracy: 0.6833 - val_loss: 1.0778 - val_accuracy: 0.6000\n",
      "Epoch 12/30\n",
      "1/1 [==============================] - 0s 27ms/step - loss: 1.0710 - accuracy: 0.6833 - val_loss: 1.0763 - val_accuracy: 0.6000\n",
      "Epoch 13/30\n",
      "1/1 [==============================] - 0s 26ms/step - loss: 1.0689 - accuracy: 0.6833 - val_loss: 1.0747 - val_accuracy: 0.6000\n",
      "Epoch 14/30\n",
      "1/1 [==============================] - 0s 27ms/step - loss: 1.0664 - accuracy: 0.6833 - val_loss: 1.0730 - val_accuracy: 0.6000\n",
      "Epoch 15/30\n",
      "1/1 [==============================] - 0s 27ms/step - loss: 1.0647 - accuracy: 0.6833 - val_loss: 1.0712 - val_accuracy: 0.6000\n",
      "Epoch 16/30\n",
      "1/1 [==============================] - 0s 28ms/step - loss: 1.0624 - accuracy: 0.6833 - val_loss: 1.0694 - val_accuracy: 0.6000\n",
      "Epoch 17/30\n",
      "1/1 [==============================] - 0s 28ms/step - loss: 1.0602 - accuracy: 0.6833 - val_loss: 1.0674 - val_accuracy: 0.6000\n",
      "Epoch 18/30\n",
      "1/1 [==============================] - 0s 25ms/step - loss: 1.0584 - accuracy: 0.6833 - val_loss: 1.0655 - val_accuracy: 0.6000\n",
      "Epoch 19/30\n",
      "1/1 [==============================] - 0s 28ms/step - loss: 1.0563 - accuracy: 0.6833 - val_loss: 1.0634 - val_accuracy: 0.6000\n",
      "Epoch 20/30\n",
      "1/1 [==============================] - 0s 27ms/step - loss: 1.0539 - accuracy: 0.6833 - val_loss: 1.0612 - val_accuracy: 0.6000\n",
      "Epoch 21/30\n",
      "1/1 [==============================] - 0s 27ms/step - loss: 1.0505 - accuracy: 0.6833 - val_loss: 1.0590 - val_accuracy: 0.6000\n",
      "Epoch 22/30\n",
      "1/1 [==============================] - 0s 27ms/step - loss: 1.0484 - accuracy: 0.6833 - val_loss: 1.0567 - val_accuracy: 0.6000\n",
      "Epoch 23/30\n",
      "1/1 [==============================] - 0s 27ms/step - loss: 1.0467 - accuracy: 0.6833 - val_loss: 1.0544 - val_accuracy: 0.6000\n",
      "Epoch 24/30\n",
      "1/1 [==============================] - 0s 29ms/step - loss: 1.0430 - accuracy: 0.6833 - val_loss: 1.0520 - val_accuracy: 0.6000\n",
      "Epoch 25/30\n",
      "1/1 [==============================] - 0s 25ms/step - loss: 1.0409 - accuracy: 0.6833 - val_loss: 1.0495 - val_accuracy: 0.6000\n",
      "Epoch 26/30\n",
      "1/1 [==============================] - 0s 26ms/step - loss: 1.0377 - accuracy: 0.6833 - val_loss: 1.0470 - val_accuracy: 0.6000\n",
      "Epoch 27/30\n",
      "1/1 [==============================] - 0s 27ms/step - loss: 1.0350 - accuracy: 0.6833 - val_loss: 1.0444 - val_accuracy: 0.6000\n",
      "Epoch 28/30\n",
      "1/1 [==============================] - 0s 29ms/step - loss: 1.0325 - accuracy: 0.6833 - val_loss: 1.0417 - val_accuracy: 0.6000\n",
      "Epoch 29/30\n",
      "1/1 [==============================] - 0s 27ms/step - loss: 1.0297 - accuracy: 0.6833 - val_loss: 1.0390 - val_accuracy: 0.6000\n",
      "Epoch 30/30\n",
      "1/1 [==============================] - 0s 27ms/step - loss: 1.0259 - accuracy: 0.6833 - val_loss: 1.0362 - val_accuracy: 0.6000\n"
     ]
    },
    {
     "data": {
      "text/plain": [
       "<keras.callbacks.History at 0x7fb6340e3320>"
      ]
     },
     "execution_count": 16,
     "metadata": {},
     "output_type": "execute_result"
    }
   ],
   "source": [
    "model1.fit(X_train,y_train,validation_data=(X_test,y_test),batch_size=1000,epochs=30,verbose=1)"
   ]
  },
  {
   "cell_type": "code",
   "execution_count": 17,
   "metadata": {},
   "outputs": [
    {
     "name": "stdout",
     "output_type": "stream",
     "text": [
      "Accuracy of the dataset 60.0\n"
     ]
    }
   ],
   "source": [
    "prediction=model1.predict(X_test)\n",
    "length=len(prediction)\n",
    "y_label=np.argmax(y_test,axis=1)\n",
    "predict_label=np.argmax(prediction,axis=1)\n",
    "\n",
    "accuracy=np.sum(y_label==predict_label)/length * 100 \n",
    "print(\"Accuracy of the dataset\",accuracy )"
   ]
  },
  {
   "cell_type": "code",
   "execution_count": null,
   "metadata": {},
   "outputs": [],
   "source": []
  }
 ],
 "metadata": {
  "kernelspec": {
   "display_name": "conda_python3",
   "language": "python",
   "name": "conda_python3"
  },
  "language_info": {
   "codemirror_mode": {
    "name": "ipython",
    "version": 3
   },
   "file_extension": ".py",
   "mimetype": "text/x-python",
   "name": "python",
   "nbconvert_exporter": "python",
   "pygments_lexer": "ipython3",
   "version": "3.6.13"
  }
 },
 "nbformat": 4,
 "nbformat_minor": 4
}
