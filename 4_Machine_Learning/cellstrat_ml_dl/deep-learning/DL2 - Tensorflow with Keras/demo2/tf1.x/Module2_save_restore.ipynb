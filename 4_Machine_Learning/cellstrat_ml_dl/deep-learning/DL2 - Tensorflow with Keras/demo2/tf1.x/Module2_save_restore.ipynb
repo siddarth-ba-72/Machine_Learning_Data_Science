{
 "cells": [
  {
   "cell_type": "markdown",
   "metadata": {},
   "source": [
    "# Save and restore"
   ]
  },
  {
   "cell_type": "code",
   "execution_count": 1,
   "metadata": {
    "collapsed": true
   },
   "outputs": [],
   "source": [
    "import tensorflow as tf"
   ]
  },
  {
   "cell_type": "code",
   "execution_count": 2,
   "metadata": {},
   "outputs": [
    {
     "name": "stdout",
     "output_type": "stream",
     "text": [
      "completed save\n"
     ]
    }
   ],
   "source": [
    "import tensorflow as tf\n",
    "x1 = tf.Variable(tf.random_normal(shape=[2]), name='x1')\n",
    "x2 = tf.Variable(tf.random_normal(shape=[5]), name='x2')\n",
    "saver = tf.train.Saver([x1,x2])\n",
    "sess = tf.Session()\n",
    "sess.run(tf.global_variables_initializer())\n",
    "tf.global_variables_initializer()\n",
    "saver.save(sess, \"./model/my_test_model\",global_step=10)\n",
    "#saver.save(sess, \"./my_test_model.ckpt\")\n",
    "\n",
    "print('completed save')"
   ]
  },
  {
   "cell_type": "code",
   "execution_count": 3,
   "metadata": {},
   "outputs": [
    {
     "name": "stdout",
     "output_type": "stream",
     "text": [
      "INFO:tensorflow:Restoring parameters from ./model\\my_test_model-10\n",
      "[-1.1985445   0.25258714]\n",
      "[-1.3655322   1.3756355  -0.33575946  0.62148833  0.10626554]\n"
     ]
    }
   ],
   "source": [
    "with tf.Session() as sess:    \n",
    "    saver = tf.train.import_meta_graph('./model/my_test_model-10.meta')\n",
    "    saver.restore(sess,tf.train.latest_checkpoint('./model'))\n",
    "    print(sess.run(\"x1:0\"))\n",
    "    print(sess.run(\"x2:0\"))    "
   ]
  },
  {
   "cell_type": "code",
   "execution_count": null,
   "metadata": {
    "collapsed": true
   },
   "outputs": [],
   "source": []
  }
 ],
 "metadata": {
  "kernelspec": {
   "display_name": "Python 3",
   "language": "python",
   "name": "python3"
  },
  "language_info": {
   "codemirror_mode": {
    "name": "ipython",
    "version": 3
   },
   "file_extension": ".py",
   "mimetype": "text/x-python",
   "name": "python",
   "nbconvert_exporter": "python",
   "pygments_lexer": "ipython3",
   "version": "3.5.2"
  }
 },
 "nbformat": 4,
 "nbformat_minor": 2
}
