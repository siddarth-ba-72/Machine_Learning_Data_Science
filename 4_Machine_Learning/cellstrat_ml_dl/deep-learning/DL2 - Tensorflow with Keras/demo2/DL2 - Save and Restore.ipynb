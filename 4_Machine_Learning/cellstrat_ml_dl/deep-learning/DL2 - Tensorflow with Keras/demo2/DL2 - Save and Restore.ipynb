{
 "cells": [
  {
   "cell_type": "markdown",
   "metadata": {},
   "source": [
    "### CellStrat Hub Pack - Deep Learning\n",
    "\n",
    "#### DL2 - Save and restore"
   ]
  },
  {
   "cell_type": "code",
   "execution_count": 1,
   "metadata": {},
   "outputs": [],
   "source": [
    "import tensorflow as tf\n",
    "tf.compat.v1.disable_eager_execution()"
   ]
  },
  {
   "cell_type": "code",
   "execution_count": 2,
   "metadata": {},
   "outputs": [
    {
     "name": "stdout",
     "output_type": "stream",
     "text": [
      "completed save\n"
     ]
    }
   ],
   "source": [
    "x1 = tf.Variable(tf.random.normal(shape=[2]), name='x1')\n",
    "x2 = tf.Variable(tf.random.normal(shape=[5]), name='x2')\n",
    "saver = tf.compat.v1.train.Saver([x1,x2])\n",
    "sess = tf.compat.v1.Session()\n",
    "sess.run(tf.compat.v1.global_variables_initializer())\n",
    "tf.compat.v1.global_variables_initializer()\n",
    "saver.save(sess, \"./model/my_test_model\",global_step=10)\n",
    "#saver.save(sess, \"./my_test_model.ckpt\")\n",
    "\n",
    "print('completed save')"
   ]
  },
  {
   "cell_type": "code",
   "execution_count": 3,
   "metadata": {},
   "outputs": [
    {
     "name": "stdout",
     "output_type": "stream",
     "text": [
      "INFO:tensorflow:Restoring parameters from ./model/my_test_model-10\n",
      "[( 10,) ( 44,) ( 47,) (106,) (111,) ( 98,) ( 58,) (108,) (111,) ( 99,)\n",
      " ( 97,) (108,) (104,) (111,) (115,) (116,) ( 47,) (114,) (101,) (112,)\n",
      " (108,) (105,) ( 99,) ( 97,) ( 58,) ( 48,) ( 47,) (116,) ( 97,) (115,)\n",
      " (107,) ( 58,) ( 48,) ( 47,) (100,) (101,) (118,) (105,) ( 99,) (101,)\n",
      " ( 58,) ( 67,) ( 80,) ( 85,) ( 58,) ( 48,) ( 18,) (  9,) (108,) (111,)\n",
      " ( 99,) ( 97,) (108,) (104,) (111,) (115,) (116,) ( 26,) (  2,) (120,)\n",
      " ( 49,) ( 32,) (241,) (223,) (213,) (223,) (245,) (240,) ( 31,) ( 42,)\n",
      " ( 18,) ( 78,) ( 49,) ( 48,) (116,) (101,) (110,) (115,) (111,) (114,)\n",
      " (102,) (108,) (111,) (119,) ( 51,) ( 86,) ( 97,) (114,) ( 69,) ( 50,)\n",
      " (  8,) (  8,) (  1,) ( 18,) (  4,) ( 18,) (  2,) (  8,) (  2,)]\n",
      "[( 10,) ( 44,) ( 47,) (106,) (111,) ( 98,) ( 58,) (108,) (111,) ( 99,)\n",
      " ( 97,) (108,) (104,) (111,) (115,) (116,) ( 47,) (114,) (101,) (112,)\n",
      " (108,) (105,) ( 99,) ( 97,) ( 58,) ( 48,) ( 47,) (116,) ( 97,) (115,)\n",
      " (107,) ( 58,) ( 48,) ( 47,) (100,) (101,) (118,) (105,) ( 99,) (101,)\n",
      " ( 58,) ( 67,) ( 80,) ( 85,) ( 58,) ( 48,) ( 18,) (  9,) (108,) (111,)\n",
      " ( 99,) ( 97,) (108,) (104,) (111,) (115,) (116,) ( 26,) (  2,) (120,)\n",
      " ( 50,) ( 32,) (241,) (223,) (213,) (223,) (245,) (240,) ( 31,) ( 42,)\n",
      " ( 18,) ( 78,) ( 49,) ( 48,) (116,) (101,) (110,) (115,) (111,) (114,)\n",
      " (102,) (108,) (111,) (119,) ( 51,) ( 86,) ( 97,) (114,) ( 69,) ( 50,)\n",
      " (  8,) (  8,) (  1,) ( 18,) (  4,) ( 18,) (  2,) (  8,) (  5,)]\n"
     ]
    },
    {
     "name": "stderr",
     "output_type": "stream",
     "text": [
      "/home/ec2-user/anaconda3/envs/python3/lib/python3.6/site-packages/tensorflow/python/client/session.py:1453: FutureWarning: Passing (type, 1) or '1type' as a synonym of type is deprecated; in a future version of numpy, it will be understood as (type, (1,)) / '(1,)type'.\n",
      "  run_metadata)\n"
     ]
    }
   ],
   "source": [
    "with tf.compat.v1.Session() as sess:\n",
    "    saver = tf.compat.v1.train.import_meta_graph('./model/my_test_model-10.meta')\n",
    "    saver.restore(sess,tf.train.latest_checkpoint('./model'))\n",
    "    print(sess.run(\"x1:0\"))\n",
    "    print(sess.run(\"x2:0\"))"
   ]
  },
  {
   "cell_type": "code",
   "execution_count": null,
   "metadata": {},
   "outputs": [],
   "source": []
  }
 ],
 "metadata": {
  "kernelspec": {
   "display_name": "conda_python3",
   "language": "python",
   "name": "conda_python3"
  },
  "language_info": {
   "codemirror_mode": {
    "name": "ipython",
    "version": 3
   },
   "file_extension": ".py",
   "mimetype": "text/x-python",
   "name": "python",
   "nbconvert_exporter": "python",
   "pygments_lexer": "ipython3",
   "version": "3.6.13"
  }
 },
 "nbformat": 4,
 "nbformat_minor": 4
}
