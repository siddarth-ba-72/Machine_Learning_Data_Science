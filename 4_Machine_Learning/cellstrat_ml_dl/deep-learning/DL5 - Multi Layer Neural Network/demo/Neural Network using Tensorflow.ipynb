{
 "cells": [
  {
   "cell_type": "markdown",
   "metadata": {},
   "source": [
    "### CellStrat Hub Pack - Deep Learning\n",
    "\n",
    "#### DL5 - Credit Decision (Neural Network using Tensorflow)"
   ]
  },
  {
   "cell_type": "markdown",
   "metadata": {},
   "source": [
    "### Import packages"
   ]
  },
  {
   "cell_type": "code",
   "execution_count": 1,
   "metadata": {},
   "outputs": [],
   "source": [
    "import numpy as np\n",
    "import pandas as pd\n",
    "from sklearn.model_selection import train_test_split\n",
    "import tensorflow as tf"
   ]
  },
  {
   "cell_type": "markdown",
   "metadata": {},
   "source": [
    "### Load Data"
   ]
  },
  {
   "cell_type": "code",
   "execution_count": 2,
   "metadata": {},
   "outputs": [
    {
     "data": {
      "text/html": [
       "<div>\n",
       "<style scoped>\n",
       "    .dataframe tbody tr th:only-of-type {\n",
       "        vertical-align: middle;\n",
       "    }\n",
       "\n",
       "    .dataframe tbody tr th {\n",
       "        vertical-align: top;\n",
       "    }\n",
       "\n",
       "    .dataframe thead th {\n",
       "        text-align: right;\n",
       "    }\n",
       "</style>\n",
       "<table border=\"1\" class=\"dataframe\">\n",
       "  <thead>\n",
       "    <tr style=\"text-align: right;\">\n",
       "      <th></th>\n",
       "      <th>0</th>\n",
       "      <th>1</th>\n",
       "      <th>2</th>\n",
       "      <th>3</th>\n",
       "      <th>4</th>\n",
       "      <th>5</th>\n",
       "      <th>6</th>\n",
       "      <th>7</th>\n",
       "      <th>8</th>\n",
       "      <th>9</th>\n",
       "      <th>...</th>\n",
       "      <th>11</th>\n",
       "      <th>12</th>\n",
       "      <th>13</th>\n",
       "      <th>14</th>\n",
       "      <th>15</th>\n",
       "      <th>16</th>\n",
       "      <th>17</th>\n",
       "      <th>18</th>\n",
       "      <th>19</th>\n",
       "      <th>20</th>\n",
       "    </tr>\n",
       "  </thead>\n",
       "  <tbody>\n",
       "    <tr>\n",
       "      <th>0</th>\n",
       "      <td>1.0</td>\n",
       "      <td>1.0</td>\n",
       "      <td>18.0</td>\n",
       "      <td>4.0</td>\n",
       "      <td>2.0</td>\n",
       "      <td>1049.0</td>\n",
       "      <td>1.0</td>\n",
       "      <td>2.0</td>\n",
       "      <td>4.0</td>\n",
       "      <td>2.0</td>\n",
       "      <td>...</td>\n",
       "      <td>4.0</td>\n",
       "      <td>2.0</td>\n",
       "      <td>21.0</td>\n",
       "      <td>3.0</td>\n",
       "      <td>1.0</td>\n",
       "      <td>1.0</td>\n",
       "      <td>3.0</td>\n",
       "      <td>1.0</td>\n",
       "      <td>1.0</td>\n",
       "      <td>1.0</td>\n",
       "    </tr>\n",
       "    <tr>\n",
       "      <th>1</th>\n",
       "      <td>1.0</td>\n",
       "      <td>1.0</td>\n",
       "      <td>9.0</td>\n",
       "      <td>4.0</td>\n",
       "      <td>0.0</td>\n",
       "      <td>2799.0</td>\n",
       "      <td>1.0</td>\n",
       "      <td>3.0</td>\n",
       "      <td>2.0</td>\n",
       "      <td>3.0</td>\n",
       "      <td>...</td>\n",
       "      <td>2.0</td>\n",
       "      <td>1.0</td>\n",
       "      <td>36.0</td>\n",
       "      <td>3.0</td>\n",
       "      <td>1.0</td>\n",
       "      <td>2.0</td>\n",
       "      <td>3.0</td>\n",
       "      <td>2.0</td>\n",
       "      <td>1.0</td>\n",
       "      <td>1.0</td>\n",
       "    </tr>\n",
       "    <tr>\n",
       "      <th>2</th>\n",
       "      <td>1.0</td>\n",
       "      <td>2.0</td>\n",
       "      <td>12.0</td>\n",
       "      <td>2.0</td>\n",
       "      <td>9.0</td>\n",
       "      <td>841.0</td>\n",
       "      <td>2.0</td>\n",
       "      <td>4.0</td>\n",
       "      <td>2.0</td>\n",
       "      <td>2.0</td>\n",
       "      <td>...</td>\n",
       "      <td>4.0</td>\n",
       "      <td>1.0</td>\n",
       "      <td>23.0</td>\n",
       "      <td>3.0</td>\n",
       "      <td>1.0</td>\n",
       "      <td>1.0</td>\n",
       "      <td>2.0</td>\n",
       "      <td>1.0</td>\n",
       "      <td>1.0</td>\n",
       "      <td>1.0</td>\n",
       "    </tr>\n",
       "    <tr>\n",
       "      <th>3</th>\n",
       "      <td>1.0</td>\n",
       "      <td>1.0</td>\n",
       "      <td>12.0</td>\n",
       "      <td>4.0</td>\n",
       "      <td>0.0</td>\n",
       "      <td>2122.0</td>\n",
       "      <td>1.0</td>\n",
       "      <td>3.0</td>\n",
       "      <td>3.0</td>\n",
       "      <td>3.0</td>\n",
       "      <td>...</td>\n",
       "      <td>2.0</td>\n",
       "      <td>1.0</td>\n",
       "      <td>39.0</td>\n",
       "      <td>3.0</td>\n",
       "      <td>1.0</td>\n",
       "      <td>2.0</td>\n",
       "      <td>2.0</td>\n",
       "      <td>2.0</td>\n",
       "      <td>1.0</td>\n",
       "      <td>2.0</td>\n",
       "    </tr>\n",
       "    <tr>\n",
       "      <th>4</th>\n",
       "      <td>1.0</td>\n",
       "      <td>1.0</td>\n",
       "      <td>12.0</td>\n",
       "      <td>4.0</td>\n",
       "      <td>0.0</td>\n",
       "      <td>2171.0</td>\n",
       "      <td>1.0</td>\n",
       "      <td>3.0</td>\n",
       "      <td>4.0</td>\n",
       "      <td>3.0</td>\n",
       "      <td>...</td>\n",
       "      <td>4.0</td>\n",
       "      <td>2.0</td>\n",
       "      <td>38.0</td>\n",
       "      <td>1.0</td>\n",
       "      <td>2.0</td>\n",
       "      <td>2.0</td>\n",
       "      <td>2.0</td>\n",
       "      <td>1.0</td>\n",
       "      <td>1.0</td>\n",
       "      <td>2.0</td>\n",
       "    </tr>\n",
       "  </tbody>\n",
       "</table>\n",
       "<p>5 rows × 21 columns</p>\n",
       "</div>"
      ],
      "text/plain": [
       "    0    1     2    3    4       5    6    7    8    9   ...   11   12    13  \\\n",
       "0  1.0  1.0  18.0  4.0  2.0  1049.0  1.0  2.0  4.0  2.0  ...  4.0  2.0  21.0   \n",
       "1  1.0  1.0   9.0  4.0  0.0  2799.0  1.0  3.0  2.0  3.0  ...  2.0  1.0  36.0   \n",
       "2  1.0  2.0  12.0  2.0  9.0   841.0  2.0  4.0  2.0  2.0  ...  4.0  1.0  23.0   \n",
       "3  1.0  1.0  12.0  4.0  0.0  2122.0  1.0  3.0  3.0  3.0  ...  2.0  1.0  39.0   \n",
       "4  1.0  1.0  12.0  4.0  0.0  2171.0  1.0  3.0  4.0  3.0  ...  4.0  2.0  38.0   \n",
       "\n",
       "    14   15   16   17   18   19   20  \n",
       "0  3.0  1.0  1.0  3.0  1.0  1.0  1.0  \n",
       "1  3.0  1.0  2.0  3.0  2.0  1.0  1.0  \n",
       "2  3.0  1.0  1.0  2.0  1.0  1.0  1.0  \n",
       "3  3.0  1.0  2.0  2.0  2.0  1.0  2.0  \n",
       "4  1.0  2.0  2.0  2.0  1.0  1.0  2.0  \n",
       "\n",
       "[5 rows x 21 columns]"
      ]
     },
     "execution_count": 2,
     "metadata": {},
     "output_type": "execute_result"
    }
   ],
   "source": [
    "credit= np.loadtxt('./german_credit.csv', delimiter=',',dtype=float)\n",
    "\n",
    "# The column definitions are \n",
    "#'credit_status','checkin_acc', 'duration', 'credit_history', 'purpose', 'amount',\n",
    "#           'svaing_acc', 'present_emp_since', 'inst_rate', 'personal_status',\n",
    "#           'other_debtors', 'residing_since', 'property', 'age',\n",
    "#           'inst_plans', 'housing', 'num_credits',\n",
    "#           'job', 'dependents', 'telephone', 'foreign_worker' ]\n",
    "\n",
    "np.shape(credit)\n",
    "credit_df = df = pd.DataFrame(credit)\n",
    "credit_df.head()"
   ]
  },
  {
   "cell_type": "markdown",
   "metadata": {},
   "source": [
    "### Create X and Y variables"
   ]
  },
  {
   "cell_type": "code",
   "execution_count": 3,
   "metadata": {},
   "outputs": [
    {
     "name": "stdout",
     "output_type": "stream",
     "text": [
      "700\n",
      "300\n"
     ]
    },
    {
     "data": {
      "text/plain": [
       "20"
      ]
     },
     "execution_count": 3,
     "metadata": {},
     "output_type": "execute_result"
    }
   ],
   "source": [
    "X = credit[:,1:21]\n",
    "Y = credit[:,0]\n",
    "print(np.count_nonzero(Y == 1))\n",
    "print(np.count_nonzero(Y == 0))\n",
    "np.shape(X)\n",
    "np.shape(X)[1]"
   ]
  },
  {
   "cell_type": "markdown",
   "metadata": {},
   "source": [
    "### Split data into train and test"
   ]
  },
  {
   "cell_type": "code",
   "execution_count": 4,
   "metadata": {},
   "outputs": [],
   "source": [
    "X_train, X_test, y_train, y_test = train_test_split( X, Y, \n",
    "                                                    test_size = 0.3, random_state = 42 )"
   ]
  },
  {
   "cell_type": "markdown",
   "metadata": {},
   "source": [
    "### Train using Tensorflow estimator"
   ]
  },
  {
   "cell_type": "code",
   "execution_count": 5,
   "metadata": {},
   "outputs": [
    {
     "name": "stdout",
     "output_type": "stream",
     "text": [
      "INFO:tensorflow:Using default config.\n",
      "WARNING:tensorflow:Using temporary folder as model directory: /tmp/tmpzne7qcod\n",
      "INFO:tensorflow:Using config: {'_model_dir': '/tmp/tmpzne7qcod', '_tf_random_seed': None, '_save_summary_steps': 100, '_save_checkpoints_steps': None, '_save_checkpoints_secs': 600, '_session_config': allow_soft_placement: true\n",
      "graph_options {\n",
      "  rewrite_options {\n",
      "    meta_optimizer_iterations: ONE\n",
      "  }\n",
      "}\n",
      ", '_keep_checkpoint_max': 5, '_keep_checkpoint_every_n_hours': 10000, '_log_step_count_steps': 100, '_train_distribute': None, '_device_fn': None, '_protocol': None, '_eval_distribute': None, '_experimental_distribute': None, '_experimental_max_worker_delay_secs': None, '_session_creation_timeout_secs': 7200, '_checkpoint_save_graph_def': True, '_service': None, '_cluster_spec': ClusterSpec({}), '_task_type': 'worker', '_task_id': 0, '_global_id_in_cluster': 0, '_master': '', '_evaluation_master': '', '_is_chief': True, '_num_ps_replicas': 0, '_num_worker_replicas': 1}\n",
      "WARNING:tensorflow:From /home/ubuntu/anaconda3/envs/tensorflow/lib/python3.8/site-packages/tensorflow/python/training/training_util.py:235: Variable.initialized_value (from tensorflow.python.ops.variables) is deprecated and will be removed in a future version.\n",
      "Instructions for updating:\n",
      "Use Variable.read_value. Variables in 2.X are initialized automatically both in eager and graph (inside tf.defun) contexts.\n",
      "INFO:tensorflow:Calling model_fn.\n"
     ]
    },
    {
     "name": "stderr",
     "output_type": "stream",
     "text": [
      "2021-09-21 14:46:56.269873: I tensorflow/compiler/jit/xla_cpu_device.cc:41] Not creating XLA devices, tf_xla_enable_xla_devices not set\n",
      "/tmp/ipykernel_2625/4179643924.py:8: DeprecationWarning: `np.int` is a deprecated alias for the builtin `int`. To silence this warning, use `int` by itself. Doing this will not modify any behavior and is safe. When replacing `np.int`, you may wish to use e.g. `np.int64` or `np.int32` to specify the precision. If you wish to review your current use, check the release note link for additional information.\n",
      "Deprecated in NumPy 1.20; for more details and guidance: https://numpy.org/devdocs/release/1.20.0-notes.html#deprecations\n",
      "  return {\"x\":np.array(X_train)},np.array(y_train,dtype=np.int)\n"
     ]
    },
    {
     "name": "stdout",
     "output_type": "stream",
     "text": [
      "WARNING:tensorflow:From /home/ubuntu/anaconda3/envs/tensorflow/lib/python3.8/site-packages/tensorflow/python/keras/optimizer_v2/adagrad.py:82: calling Constant.__init__ (from tensorflow.python.ops.init_ops) with dtype is deprecated and will be removed in a future version.\n",
      "Instructions for updating:\n",
      "Call initializer instance with the dtype argument instead of passing it to the constructor\n",
      "INFO:tensorflow:Done calling model_fn.\n",
      "INFO:tensorflow:Create CheckpointSaverHook.\n",
      "INFO:tensorflow:Graph was finalized.\n",
      "INFO:tensorflow:Running local_init_op.\n",
      "INFO:tensorflow:Done running local_init_op.\n"
     ]
    },
    {
     "name": "stderr",
     "output_type": "stream",
     "text": [
      "2021-09-21 14:46:56.599846: I tensorflow/core/platform/cpu_feature_guard.cc:142] This TensorFlow binary is optimized with oneAPI Deep Neural Network Library (oneDNN) to use the following CPU instructions in performance-critical operations:  SSE4.1 SSE4.2 AVX AVX2 AVX512F FMA\n",
      "To enable them in other operations, rebuild TensorFlow with the appropriate compiler flags.\n",
      "2021-09-21 14:46:56.603075: I tensorflow/core/common_runtime/process_util.cc:146] Creating new thread pool with default inter op setting: 2. Tune using inter_op_parallelism_threads for best performance.\n",
      "2021-09-21 14:46:56.609824: I tensorflow/compiler/mlir/mlir_graph_optimization_pass.cc:196] None of the MLIR optimization passes are enabled (registered 0 passes)\n",
      "2021-09-21 14:46:56.640158: I tensorflow/core/platform/profile_utils/cpu_utils.cc:112] CPU Frequency: 2499995000 Hz\n"
     ]
    },
    {
     "name": "stdout",
     "output_type": "stream",
     "text": [
      "INFO:tensorflow:Calling checkpoint listeners before saving checkpoint 0...\n",
      "INFO:tensorflow:Saving checkpoints for 0 into /tmp/tmpzne7qcod/model.ckpt.\n",
      "INFO:tensorflow:Calling checkpoint listeners after saving checkpoint 0...\n",
      "INFO:tensorflow:loss = 0.6931467, step = 0\n",
      "INFO:tensorflow:global_step/sec: 187.112\n",
      "INFO:tensorflow:loss = 0.6897769, step = 100 (0.536 sec)\n",
      "INFO:tensorflow:global_step/sec: 622.333\n",
      "INFO:tensorflow:loss = 0.6881723, step = 200 (0.161 sec)\n",
      "INFO:tensorflow:global_step/sec: 480.348\n",
      "INFO:tensorflow:loss = 0.6869521, step = 300 (0.208 sec)\n",
      "INFO:tensorflow:global_step/sec: 555.245\n",
      "INFO:tensorflow:loss = 0.6859305, step = 400 (0.183 sec)\n",
      "INFO:tensorflow:global_step/sec: 543.769\n",
      "INFO:tensorflow:loss = 0.6850375, step = 500 (0.182 sec)\n",
      "INFO:tensorflow:global_step/sec: 544.392\n",
      "INFO:tensorflow:loss = 0.68423504, step = 600 (0.183 sec)\n",
      "INFO:tensorflow:global_step/sec: 568.964\n",
      "INFO:tensorflow:loss = 0.68350345, step = 700 (0.176 sec)\n",
      "INFO:tensorflow:global_step/sec: 565.754\n",
      "INFO:tensorflow:loss = 0.6828261, step = 800 (0.177 sec)\n",
      "INFO:tensorflow:global_step/sec: 555.792\n",
      "INFO:tensorflow:loss = 0.68219393, step = 900 (0.180 sec)\n",
      "INFO:tensorflow:global_step/sec: 499.599\n",
      "INFO:tensorflow:loss = 0.6815984, step = 1000 (0.201 sec)\n",
      "INFO:tensorflow:global_step/sec: 566.452\n",
      "INFO:tensorflow:loss = 0.68103576, step = 1100 (0.177 sec)\n",
      "INFO:tensorflow:global_step/sec: 553.672\n",
      "INFO:tensorflow:loss = 0.6805011, step = 1200 (0.180 sec)\n",
      "INFO:tensorflow:global_step/sec: 564.257\n",
      "INFO:tensorflow:loss = 0.679991, step = 1300 (0.177 sec)\n",
      "INFO:tensorflow:global_step/sec: 562.873\n",
      "INFO:tensorflow:loss = 0.6795012, step = 1400 (0.178 sec)\n",
      "INFO:tensorflow:global_step/sec: 570.787\n",
      "INFO:tensorflow:loss = 0.6790328, step = 1500 (0.175 sec)\n",
      "INFO:tensorflow:global_step/sec: 568.19\n",
      "INFO:tensorflow:loss = 0.67857987, step = 1600 (0.176 sec)\n",
      "INFO:tensorflow:global_step/sec: 572.785\n",
      "INFO:tensorflow:loss = 0.67814416, step = 1700 (0.175 sec)\n",
      "INFO:tensorflow:global_step/sec: 565.575\n",
      "INFO:tensorflow:loss = 0.67772245, step = 1800 (0.177 sec)\n",
      "INFO:tensorflow:global_step/sec: 569.014\n",
      "INFO:tensorflow:loss = 0.6773143, step = 1900 (0.176 sec)\n",
      "INFO:tensorflow:global_step/sec: 571.512\n",
      "INFO:tensorflow:loss = 0.67691714, step = 2000 (0.175 sec)\n",
      "INFO:tensorflow:global_step/sec: 571.18\n",
      "INFO:tensorflow:loss = 0.67653245, step = 2100 (0.175 sec)\n",
      "INFO:tensorflow:global_step/sec: 568.556\n",
      "INFO:tensorflow:loss = 0.67615855, step = 2200 (0.176 sec)\n",
      "INFO:tensorflow:global_step/sec: 570.07\n",
      "INFO:tensorflow:loss = 0.675794, step = 2300 (0.175 sec)\n",
      "INFO:tensorflow:global_step/sec: 560.739\n",
      "INFO:tensorflow:loss = 0.6754383, step = 2400 (0.178 sec)\n",
      "INFO:tensorflow:global_step/sec: 570.739\n",
      "INFO:tensorflow:loss = 0.6750911, step = 2500 (0.175 sec)\n",
      "INFO:tensorflow:global_step/sec: 570.741\n",
      "INFO:tensorflow:loss = 0.6747521, step = 2600 (0.175 sec)\n",
      "INFO:tensorflow:global_step/sec: 565.077\n",
      "INFO:tensorflow:loss = 0.6744215, step = 2700 (0.177 sec)\n",
      "INFO:tensorflow:global_step/sec: 565.478\n",
      "INFO:tensorflow:loss = 0.6740975, step = 2800 (0.177 sec)\n",
      "INFO:tensorflow:global_step/sec: 568.587\n",
      "INFO:tensorflow:loss = 0.6737801, step = 2900 (0.176 sec)\n",
      "INFO:tensorflow:global_step/sec: 556.811\n",
      "INFO:tensorflow:loss = 0.6734696, step = 3000 (0.181 sec)\n",
      "INFO:tensorflow:global_step/sec: 564.09\n",
      "INFO:tensorflow:loss = 0.67316484, step = 3100 (0.177 sec)\n",
      "INFO:tensorflow:global_step/sec: 602.554\n",
      "INFO:tensorflow:loss = 0.6728666, step = 3200 (0.166 sec)\n",
      "INFO:tensorflow:global_step/sec: 560.402\n",
      "INFO:tensorflow:loss = 0.6725731, step = 3300 (0.179 sec)\n",
      "INFO:tensorflow:global_step/sec: 560.393\n",
      "INFO:tensorflow:loss = 0.6722858, step = 3400 (0.178 sec)\n",
      "INFO:tensorflow:global_step/sec: 555.455\n",
      "INFO:tensorflow:loss = 0.6720027, step = 3500 (0.180 sec)\n",
      "INFO:tensorflow:global_step/sec: 566.235\n",
      "INFO:tensorflow:loss = 0.67172575, step = 3600 (0.177 sec)\n",
      "INFO:tensorflow:global_step/sec: 560.261\n",
      "INFO:tensorflow:loss = 0.6714519, step = 3700 (0.179 sec)\n",
      "INFO:tensorflow:global_step/sec: 554.316\n",
      "INFO:tensorflow:loss = 0.67118454, step = 3800 (0.181 sec)\n",
      "INFO:tensorflow:global_step/sec: 560.078\n",
      "INFO:tensorflow:loss = 0.67092013, step = 3900 (0.178 sec)\n",
      "INFO:tensorflow:global_step/sec: 564.915\n",
      "INFO:tensorflow:loss = 0.67065895, step = 4000 (0.177 sec)\n",
      "INFO:tensorflow:global_step/sec: 552.371\n",
      "INFO:tensorflow:loss = 0.67040324, step = 4100 (0.181 sec)\n",
      "INFO:tensorflow:global_step/sec: 560.076\n",
      "INFO:tensorflow:loss = 0.6701514, step = 4200 (0.178 sec)\n",
      "INFO:tensorflow:global_step/sec: 564.717\n",
      "INFO:tensorflow:loss = 0.66990256, step = 4300 (0.177 sec)\n",
      "INFO:tensorflow:global_step/sec: 553.98\n",
      "INFO:tensorflow:loss = 0.6696569, step = 4400 (0.181 sec)\n",
      "INFO:tensorflow:global_step/sec: 562.546\n",
      "INFO:tensorflow:loss = 0.66941535, step = 4500 (0.178 sec)\n",
      "INFO:tensorflow:global_step/sec: 585.802\n",
      "INFO:tensorflow:loss = 0.669177, step = 4600 (0.171 sec)\n",
      "INFO:tensorflow:global_step/sec: 513.219\n",
      "INFO:tensorflow:loss = 0.66894215, step = 4700 (0.195 sec)\n",
      "INFO:tensorflow:global_step/sec: 542.954\n",
      "INFO:tensorflow:loss = 0.6687111, step = 4800 (0.184 sec)\n",
      "INFO:tensorflow:global_step/sec: 528.369\n",
      "INFO:tensorflow:loss = 0.6684821, step = 4900 (0.190 sec)\n",
      "INFO:tensorflow:Calling checkpoint listeners before saving checkpoint 5000...\n",
      "INFO:tensorflow:Saving checkpoints for 5000 into /tmp/tmpzne7qcod/model.ckpt.\n",
      "INFO:tensorflow:Calling checkpoint listeners after saving checkpoint 5000...\n",
      "INFO:tensorflow:Loss for final step: 0.66825753.\n"
     ]
    },
    {
     "data": {
      "text/plain": [
       "<tensorflow_estimator.python.estimator.canned.dnn.DNNClassifierV2 at 0x7fcd235bbb50>"
      ]
     },
     "execution_count": 5,
     "metadata": {},
     "output_type": "execute_result"
    }
   ],
   "source": [
    "feature_columns =[tf.feature_column.numeric_column(\"x\",shape=[np.shape(X)[1]])]\n",
    "\n",
    "classifier = tf.estimator.DNNClassifier(feature_columns=feature_columns,\n",
    "                                        #hidden_units=[5,27,3], n_classes=3, model_dir=\"./model\")\n",
    "                                        hidden_units=[5,15,3], n_classes=2)#, model_dir=\"/tmp/credit_model\")\n",
    "\n",
    "def train_input_fn():\n",
    "    return {\"x\":np.array(X_train)},np.array(y_train,dtype=np.int)\n",
    "\n",
    "classifier.train(input_fn=train_input_fn, steps=5000)\n",
    "    "
   ]
  },
  {
   "cell_type": "markdown",
   "metadata": {},
   "source": [
    "### Evaluate model"
   ]
  },
  {
   "cell_type": "code",
   "execution_count": 6,
   "metadata": {},
   "outputs": [
    {
     "name": "stdout",
     "output_type": "stream",
     "text": [
      "INFO:tensorflow:Calling model_fn.\n"
     ]
    },
    {
     "name": "stderr",
     "output_type": "stream",
     "text": [
      "/tmp/ipykernel_2625/327186774.py:2: DeprecationWarning: `np.int` is a deprecated alias for the builtin `int`. To silence this warning, use `int` by itself. Doing this will not modify any behavior and is safe. When replacing `np.int`, you may wish to use e.g. `np.int64` or `np.int32` to specify the precision. If you wish to review your current use, check the release note link for additional information.\n",
      "Deprecated in NumPy 1.20; for more details and guidance: https://numpy.org/devdocs/release/1.20.0-notes.html#deprecations\n",
      "  return {\"x\":np.array(X_test)},np.array(y_test,dtype=np.int)\n"
     ]
    },
    {
     "name": "stdout",
     "output_type": "stream",
     "text": [
      "INFO:tensorflow:Done calling model_fn.\n",
      "INFO:tensorflow:Starting evaluation at 2021-09-21T14:47:07Z\n",
      "INFO:tensorflow:Graph was finalized.\n",
      "INFO:tensorflow:Restoring parameters from /tmp/tmpzne7qcod/model.ckpt-5000\n",
      "INFO:tensorflow:Running local_init_op.\n",
      "INFO:tensorflow:Done running local_init_op.\n",
      "INFO:tensorflow:Evaluation [1/1]\n",
      "INFO:tensorflow:Inference Time : 0.74790s\n",
      "INFO:tensorflow:Finished evaluation at 2021-09-21-14:47:08\n",
      "INFO:tensorflow:Saving dict for global step 5000: accuracy = 0.6933333, accuracy_baseline = 0.6933333, auc = 0.5, auc_precision_recall = 0.6933333, average_loss = 0.669529, global_step = 5000, label/mean = 0.6933333, loss = 0.669529, precision = 0.6933333, prediction/mean = 0.53337866, recall = 1.0\n",
      "INFO:tensorflow:Saving 'checkpoint_path' summary for global step 5000: /tmp/tmpzne7qcod/model.ckpt-5000\n",
      "Test Accuracy: 0.693333\n"
     ]
    }
   ],
   "source": [
    "def test_input_fn():\n",
    "    return {\"x\":np.array(X_test)},np.array(y_test,dtype=np.int)\n",
    "accuracy_score = classifier.evaluate(input_fn=test_input_fn,steps=1)[\"accuracy\"]\n",
    "print(\"Test Accuracy: {0:f}\".format(accuracy_score))"
   ]
  },
  {
   "cell_type": "code",
   "execution_count": null,
   "metadata": {},
   "outputs": [],
   "source": []
  },
  {
   "cell_type": "code",
   "execution_count": null,
   "metadata": {},
   "outputs": [],
   "source": []
  },
  {
   "cell_type": "code",
   "execution_count": null,
   "metadata": {},
   "outputs": [],
   "source": []
  },
  {
   "cell_type": "code",
   "execution_count": null,
   "metadata": {},
   "outputs": [],
   "source": []
  },
  {
   "cell_type": "code",
   "execution_count": null,
   "metadata": {},
   "outputs": [],
   "source": []
  }
 ],
 "metadata": {
  "kernelspec": {
   "display_name": "Tensorflow 2.4",
   "language": "python",
   "name": "tensorflow"
  },
  "language_info": {
   "codemirror_mode": {
    "name": "ipython",
    "version": 3
   },
   "file_extension": ".py",
   "mimetype": "text/x-python",
   "name": "python",
   "nbconvert_exporter": "python",
   "pygments_lexer": "ipython3",
   "version": "3.8.8"
  }
 },
 "nbformat": 4,
 "nbformat_minor": 4
}
