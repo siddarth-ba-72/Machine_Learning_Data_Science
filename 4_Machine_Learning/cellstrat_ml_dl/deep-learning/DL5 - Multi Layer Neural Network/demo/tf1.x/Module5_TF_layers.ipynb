{
 "cells": [
  {
   "cell_type": "markdown",
   "metadata": {},
   "source": [
    "# Tensorflow  Layers"
   ]
  },
  {
   "cell_type": "code",
   "execution_count": 1,
   "metadata": {},
   "outputs": [],
   "source": [
    "%matplotlib inline"
   ]
  },
  {
   "cell_type": "code",
   "execution_count": 2,
   "metadata": {},
   "outputs": [],
   "source": [
    "from IPython.display import Image\n",
    "%matplotlib inline"
   ]
  },
  {
   "cell_type": "code",
   "execution_count": 3,
   "metadata": {},
   "outputs": [],
   "source": [
    "#CellStrat - lets use a high-level tf.layers API to train a multilayer neural network model for\n",
    "#MNIST classification."
   ]
  },
  {
   "cell_type": "code",
   "execution_count": 4,
   "metadata": {},
   "outputs": [],
   "source": [
    "# unzips mnist\n",
    "\n",
    "import sys\n",
    "import gzip\n",
    "import shutil\n",
    "import os\n",
    "import numpy as np"
   ]
  },
  {
   "cell_type": "code",
   "execution_count": 5,
   "metadata": {},
   "outputs": [],
   "source": [
    "import struct\n",
    " \n",
    "def load_mnist(path, kind='train'):\n",
    "    \"\"\"Load MNIST data from `path`\"\"\"\n",
    "    labels_path = os.path.join(path, \n",
    "                               '%s-labels-idx1-ubyte' % kind)\n",
    "    images_path = os.path.join(path, \n",
    "                               '%s-images-idx3-ubyte' % kind)\n",
    "        \n",
    "    with open(labels_path, 'rb') as lbpath:\n",
    "        magic, n = struct.unpack('>II', \n",
    "                                 lbpath.read(8))\n",
    "        labels = np.fromfile(lbpath, \n",
    "                             dtype=np.uint8)\n",
    "\n",
    "    with open(images_path, 'rb') as imgpath:\n",
    "        magic, num, rows, cols = struct.unpack(\">IIII\", \n",
    "                                               imgpath.read(16))\n",
    "        images = np.fromfile(imgpath, \n",
    "                             dtype=np.uint8).reshape(len(labels), 784)\n",
    "        images = ((images / 255.) - .5) * 2\n",
    " \n",
    "    return images, labels"
   ]
  },
  {
   "cell_type": "code",
   "execution_count": 6,
   "metadata": {},
   "outputs": [
    {
     "name": "stdout",
     "output_type": "stream",
     "text": [
      "Rows: 60000,  Columns: 784\n",
      "Rows: 10000,  Columns: 784\n",
      "Unique classes [0 1 2 3 4 5 6 7 8 9]\n",
      "(60000, 784) (60000,)\n",
      "(10000, 784) (10000,)\n"
     ]
    }
   ],
   "source": [
    "## loading the data \n",
    "import numpy as np\n",
    "X_train, y_train = load_mnist('./', kind='train')\n",
    "print('Rows: %d,  Columns: %d' %(X_train.shape[0], \n",
    "                                 X_train.shape[1]))\n",
    "\n",
    "X_test, y_test = load_mnist('./', kind='t10k')\n",
    "print('Rows: %d,  Columns: %d' %(X_test.shape[0], \n",
    "                                     X_test.shape[1]))\n",
    "print('Unique classes',(np.unique(y_test)))\n",
    "## mean centering and normalization:\n",
    "mean_vals = np.mean(X_train, axis=0)\n",
    "std_val = np.std(X_train)\n",
    "\n",
    "X_train_centered = (X_train - mean_vals)/std_val\n",
    "X_test_centered = (X_test - mean_vals)/std_val\n",
    "\n",
    "del X_train, X_test\n",
    "\n",
    "print(X_train_centered.shape, y_train.shape)\n",
    "\n",
    "print(X_test_centered.shape, y_test.shape)"
   ]
  },
  {
   "cell_type": "code",
   "execution_count": 7,
   "metadata": {},
   "outputs": [],
   "source": [
    "# CellStrat - create three fully connected neuron layers using high level tf.layers API\n",
    "# in the hidden layer, we will use hyperbolic tangent activation functions (tanh),\n",
    "# and softmax in the output layer"
   ]
  },
  {
   "cell_type": "code",
   "execution_count": 8,
   "metadata": {},
   "outputs": [
    {
     "name": "stdout",
     "output_type": "stream",
     "text": [
      "WARNING:tensorflow:From /home/ubuntu/anaconda3/envs/tensorflow/lib/python3.8/site-packages/tensorflow/python/compat/v2_compat.py:96: disable_resource_variables (from tensorflow.python.ops.variable_scope) is deprecated and will be removed in a future version.\n",
      "Instructions for updating:\n",
      "non-resource variables are not supported in the long term\n"
     ]
    },
    {
     "name": "stderr",
     "output_type": "stream",
     "text": [
      "/home/ubuntu/anaconda3/envs/tensorflow/lib/python3.8/site-packages/tensorflow/python/keras/legacy_tf_layers/core.py:171: UserWarning: `tf.layers.dense` is deprecated and will be removed in a future version. Please use `tf.keras.layers.Dense` instead.\n",
      "  warnings.warn('`tf.layers.dense` is deprecated and '\n",
      "/home/ubuntu/anaconda3/envs/tensorflow/lib/python3.8/site-packages/tensorflow/python/keras/engine/base_layer_v1.py:1719: UserWarning: `layer.apply` is deprecated and will be removed in a future version. Please use `layer.__call__` method instead.\n",
      "  warnings.warn('`layer.apply` is deprecated and '\n"
     ]
    }
   ],
   "source": [
    "import tensorflow.compat.v1 as tf\n",
    "tf.disable_v2_behavior()\n",
    "\n",
    "n_features = X_train_centered.shape[1]\n",
    "n_classes = 10\n",
    "random_seed = 123\n",
    "#tf.random.set_seed(random_seed)\n",
    "\n",
    "g = tf.Graph()\n",
    "with g.as_default():\n",
    "    tf.set_random_seed(random_seed)\n",
    "    tf_x = tf.placeholder(dtype=tf.float32,\n",
    "                       shape=(None, n_features),\n",
    "                       name='tf_x')\n",
    "\n",
    "    tf_y = tf.placeholder(dtype=tf.int32, \n",
    "                        shape=None, name='tf_y')\n",
    "    y_onehot = tf.one_hot(indices=tf_y, depth=n_classes)\n",
    "\n",
    "    h1 = tf.layers.dense(inputs=tf_x, units=50,\n",
    "                         activation=tf.tanh,\n",
    "                         name='layer1')\n",
    "\n",
    "    h2 = tf.layers.dense(inputs=h1, units=50,\n",
    "                         activation=tf.tanh,\n",
    "                         name='layer2')\n",
    "\n",
    "    logits = tf.layers.dense(inputs=h2, \n",
    "                             units=10,\n",
    "                             activation=None,\n",
    "                             name='layer3')\n",
    "\n",
    "    predictions = {\n",
    "        'classes' : tf.argmax(logits, axis=1, \n",
    "                              name='predicted_classes'),\n",
    "        'probabilities' : tf.nn.softmax(logits, \n",
    "                              name='softmax_tensor')\n",
    "    }"
   ]
  },
  {
   "cell_type": "code",
   "execution_count": 9,
   "metadata": {},
   "outputs": [],
   "source": [
    "## define cost function and optimizer:\n",
    "with g.as_default():\n",
    "    #cost = tf.losses.softmax_cross_entropy(\n",
    "    #        onehot_labels=y_onehot, logits=logits) \n",
    "    \n",
    "    cost = tf.losses.softmax_cross_entropy(\n",
    "            onehot_labels=y_onehot, logits=logits) \n",
    "    \n",
    "    optimizer = tf.train.GradientDescentOptimizer(\n",
    "            learning_rate=0.1)\n",
    "\n",
    "    train_op = optimizer.minimize(loss=cost)\n",
    "\n",
    "    init_op = tf.global_variables_initializer()\n"
   ]
  },
  {
   "cell_type": "code",
   "execution_count": 10,
   "metadata": {},
   "outputs": [],
   "source": [
    "def create_batch_generator(X, y, batch_size=128, shuffle=False):\n",
    "    X_copy = np.array(X)\n",
    "    y_copy = np.array(y)\n",
    "    \n",
    "    if shuffle:\n",
    "        data = np.column_stack((X_copy, y_copy))\n",
    "        np.random.shuffle(data)\n",
    "        X_copy = data[:, :-1]\n",
    "        y_copy = data[:, -1].astype(int)\n",
    "    \n",
    "    for i in range(0, X.shape[0], batch_size):\n",
    "        yield (X_copy[i:i+batch_size, :], y_copy[i:i+batch_size])"
   ]
  },
  {
   "cell_type": "code",
   "execution_count": 11,
   "metadata": {},
   "outputs": [
    {
     "name": "stderr",
     "output_type": "stream",
     "text": [
      "2021-09-21 14:47:43.963345: I tensorflow/compiler/jit/xla_cpu_device.cc:41] Not creating XLA devices, tf_xla_enable_xla_devices not set\n",
      "2021-09-21 14:47:43.964003: I tensorflow/core/platform/cpu_feature_guard.cc:142] This TensorFlow binary is optimized with oneAPI Deep Neural Network Library (oneDNN) to use the following CPU instructions in performance-critical operations:  SSE4.1 SSE4.2 AVX AVX2 AVX512F FMA\n",
      "To enable them in other operations, rebuild TensorFlow with the appropriate compiler flags.\n",
      "2021-09-21 14:47:43.967276: I tensorflow/core/common_runtime/process_util.cc:146] Creating new thread pool with default inter op setting: 2. Tune using inter_op_parallelism_threads for best performance.\n",
      "2021-09-21 14:47:43.970549: I tensorflow/compiler/mlir/mlir_graph_optimization_pass.cc:196] None of the MLIR optimization passes are enabled (registered 0 passes)\n",
      "2021-09-21 14:47:43.992146: I tensorflow/core/platform/profile_utils/cpu_utils.cc:112] CPU Frequency: 2499995000 Hz\n"
     ]
    },
    {
     "name": "stdout",
     "output_type": "stream",
     "text": [
      " -- Epoch  1  Avg. Training Loss: 0.3039\n",
      " -- Epoch  2  Avg. Training Loss: 0.2327\n",
      " -- Epoch  3  Avg. Training Loss: 0.1960\n",
      " -- Epoch  4  Avg. Training Loss: 0.1719\n",
      " -- Epoch  5  Avg. Training Loss: 0.1543\n",
      " -- Epoch  6  Avg. Training Loss: 0.1406\n",
      " -- Epoch  7  Avg. Training Loss: 0.1293\n",
      " -- Epoch  8  Avg. Training Loss: 0.1197\n",
      " -- Epoch  9  Avg. Training Loss: 0.1115\n",
      " -- Epoch 10  Avg. Training Loss: 0.1043\n",
      " -- Epoch 11  Avg. Training Loss: 0.0979\n",
      " -- Epoch 12  Avg. Training Loss: 0.0922\n",
      " -- Epoch 13  Avg. Training Loss: 0.0871\n",
      " -- Epoch 14  Avg. Training Loss: 0.0825\n",
      " -- Epoch 15  Avg. Training Loss: 0.0783\n",
      " -- Epoch 16  Avg. Training Loss: 0.0745\n",
      " -- Epoch 17  Avg. Training Loss: 0.0710\n",
      " -- Epoch 18  Avg. Training Loss: 0.0678\n",
      " -- Epoch 19  Avg. Training Loss: 0.0649\n",
      " -- Epoch 20  Avg. Training Loss: 0.0622\n",
      " -- Epoch 21  Avg. Training Loss: 0.0597\n",
      " -- Epoch 22  Avg. Training Loss: 0.0573\n",
      " -- Epoch 23  Avg. Training Loss: 0.0552\n",
      " -- Epoch 24  Avg. Training Loss: 0.0531\n",
      " -- Epoch 25  Avg. Training Loss: 0.0512\n",
      " -- Epoch 26  Avg. Training Loss: 0.0495\n",
      " -- Epoch 27  Avg. Training Loss: 0.0478\n",
      " -- Epoch 28  Avg. Training Loss: 0.0463\n",
      " -- Epoch 29  Avg. Training Loss: 0.0448\n",
      " -- Epoch 30  Avg. Training Loss: 0.0434\n",
      " -- Epoch 31  Avg. Training Loss: 0.0422\n",
      " -- Epoch 32  Avg. Training Loss: 0.0409\n",
      " -- Epoch 33  Avg. Training Loss: 0.0398\n",
      " -- Epoch 34  Avg. Training Loss: 0.0387\n",
      " -- Epoch 35  Avg. Training Loss: 0.0377\n",
      " -- Epoch 36  Avg. Training Loss: 0.0367\n",
      " -- Epoch 37  Avg. Training Loss: 0.0358\n",
      " -- Epoch 38  Avg. Training Loss: 0.0349\n",
      " -- Epoch 39  Avg. Training Loss: 0.0340\n",
      " -- Epoch 40  Avg. Training Loss: 0.0332\n",
      " -- Epoch 41  Avg. Training Loss: 0.0325\n",
      " -- Epoch 42  Avg. Training Loss: 0.0317\n",
      " -- Epoch 43  Avg. Training Loss: 0.0311\n",
      " -- Epoch 44  Avg. Training Loss: 0.0304\n",
      " -- Epoch 45  Avg. Training Loss: 0.0297\n",
      " -- Epoch 46  Avg. Training Loss: 0.0291\n",
      " -- Epoch 47  Avg. Training Loss: 0.0285\n",
      " -- Epoch 48  Avg. Training Loss: 0.0280\n",
      " -- Epoch 49  Avg. Training Loss: 0.0274\n",
      " -- Epoch 50  Avg. Training Loss: 0.0269\n"
     ]
    }
   ],
   "source": [
    "## create a session to launch the graph\n",
    "sess =  tf.Session(graph=g)\n",
    "## run the variable initialization operator\n",
    "sess.run(init_op)\n",
    "\n",
    "## 50 epochs of training:\n",
    "training_costs = []\n",
    "for epoch in range(50):\n",
    "    training_loss = []\n",
    "    batch_generator = create_batch_generator(\n",
    "            X_train_centered, y_train, \n",
    "            batch_size=64)\n",
    "    for batch_X, batch_y in batch_generator:\n",
    "        ## prepare a dict to feed data to our network:\n",
    "        feed = {tf_x:batch_X, tf_y:batch_y}\n",
    "        _, batch_cost = sess.run([train_op, cost],\n",
    "                                 feed_dict=feed)\n",
    "        training_costs.append(batch_cost)\n",
    "    print(' -- Epoch %2d  '\n",
    "          'Avg. Training Loss: %.4f' % (\n",
    "              epoch+1, np.mean(training_costs)\n",
    "    ))\n"
   ]
  },
  {
   "cell_type": "code",
   "execution_count": 12,
   "metadata": {},
   "outputs": [
    {
     "name": "stdout",
     "output_type": "stream",
     "text": [
      "Test Accuracy: 96.00%\n"
     ]
    }
   ],
   "source": [
    "## do prediction on the test set:\n",
    "feed = {tf_x : X_test_centered}\n",
    "y_pred = sess.run(predictions['classes'], \n",
    "                  feed_dict=feed)\n",
    " \n",
    "print('Test Accuracy: %.2f%%' % (\n",
    "      100*np.sum(y_pred == y_test)/y_test.shape[0]))"
   ]
  },
  {
   "cell_type": "code",
   "execution_count": null,
   "metadata": {},
   "outputs": [],
   "source": []
  },
  {
   "cell_type": "code",
   "execution_count": null,
   "metadata": {},
   "outputs": [],
   "source": []
  }
 ],
 "metadata": {
  "kernelspec": {
   "display_name": "Tensorflow 2.4",
   "language": "python",
   "name": "tensorflow"
  },
  "language_info": {
   "codemirror_mode": {
    "name": "ipython",
    "version": 3
   },
   "file_extension": ".py",
   "mimetype": "text/x-python",
   "name": "python",
   "nbconvert_exporter": "python",
   "pygments_lexer": "ipython3",
   "version": "3.8.8"
  }
 },
 "nbformat": 4,
 "nbformat_minor": 4
}
